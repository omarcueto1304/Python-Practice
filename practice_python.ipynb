{
  "nbformat": 4,
  "nbformat_minor": 0,
  "metadata": {
    "colab": {
      "provenance": [],
      "authorship_tag": "ABX9TyNXX/n9bBNp5f4p85W1T+is",
      "include_colab_link": true
    },
    "kernelspec": {
      "name": "python3",
      "display_name": "Python 3"
    },
    "language_info": {
      "name": "python"
    }
  },
  "cells": [
    {
      "cell_type": "markdown",
      "metadata": {
        "id": "view-in-github",
        "colab_type": "text"
      },
      "source": [
        "<a href=\"https://colab.research.google.com/github/omarcueto1304/Python-Practice/blob/master/practice_python.ipynb\" target=\"_parent\"><img src=\"https://colab.research.google.com/assets/colab-badge.svg\" alt=\"Open In Colab\"/></a>"
      ]
    },
    {
      "cell_type": "code",
      "execution_count": null,
      "metadata": {
        "colab": {
          "base_uri": "https://localhost:8080/"
        },
        "id": "duwjGygBT3oz",
        "outputId": "28e93581-ecda-4531-91e5-bc535320cbba"
      },
      "outputs": [
        {
          "output_type": "stream",
          "name": "stdout",
          "text": [
            "Enter the seconds: 5\n",
            "enter speed in s/s: 5\n",
            "la distancia es:  25.0\n"
          ]
        }
      ],
      "source": [
        "'''You want to calculate the distance traveled (m) by a mobile\n",
        "which has constant velocity (m/s) for a time t (s),\n",
        "consider that it is an MRU (Uniform Rectilinear Motion).'''\n",
        "\n",
        "time=float(input('Enter the seconds: '))\n",
        "velocity=float(input('enter speed in s/s: ' ))\n",
        "\n",
        "Distance=time*velocity\n",
        "\n",
        "print('la distancia es: ',Distance)"
      ]
    },
    {
      "cell_type": "code",
      "source": [
        "'''\n",
        "Exercise 2.\n",
        "It is necessary to obtain the simple average of a student from his three partial marks N1, N2 and N3.'''\n",
        "\n",
        "nota1=int(input('Enter the 1th number: '))\n",
        "nota2=int(input('Enter the 2th number: '))\n",
        "nota3=int(input('Enter the 3th number: '))\n",
        "\n",
        "average=(nota1+nota2+nota3)/3\n",
        "\n",
        "print('The average is: ',average)"
      ],
      "metadata": {
        "colab": {
          "base_uri": "https://localhost:8080/"
        },
        "id": "4CsacZk_VYMv",
        "outputId": "9f361051-a4fe-424e-ee85-12214ecf89d3"
      },
      "execution_count": null,
      "outputs": [
        {
          "output_type": "stream",
          "name": "stdout",
          "text": [
            "Enter the 1th number: 15\n",
            "Enter the 2th number: 5\n",
            "Enter the 3th number: 85\n",
            "The average is:  35.0\n"
          ]
        }
      ]
    },
    {
      "cell_type": "code",
      "source": [
        "'''Exercise 3.\n",
        "It is necessary to develop an algorithm that requests the number of correct, \n",
        "incorrect and blank answers, corresponding to applicants, \n",
        "and shows their final score considering that for each correct answer they will have 3 points, \n",
        "incorrect answers will have -1 and blank answers will have 0.'''\n",
        "\n",
        "CA=int(input('Enter the correct answers: '))\n",
        "IA=int(input('Enter the incorrect answers: '))\n",
        "BA=int(input('Enter the blanck answers: '))\n",
        "\n",
        "FS=CA*3-IA+BA*0\n",
        "print('the final score is: ',FS )"
      ],
      "metadata": {
        "colab": {
          "base_uri": "https://localhost:8080/"
        },
        "id": "AMNAQlo7Wouq",
        "outputId": "2da4a38c-42a0-4ea5-e69d-25ff3ed32eac"
      },
      "execution_count": null,
      "outputs": [
        {
          "output_type": "stream",
          "name": "stdout",
          "text": [
            "Enter the correct answers: 50\n",
            "Enter the incorrect answers: 25\n",
            "Enter the blanck answers: 25\n",
            "the final scor is:  125\n"
          ]
        }
      ]
    },
    {
      "cell_type": "code",
      "source": [
        "switcher={\n",
        "    1:'Ene',\n",
        "    2:'Feb',\n",
        "    3:'Mar',\n",
        "    4:'Abr',\n",
        "    5:'May',\n",
        "    6:'Jun',\n",
        "    7:'Jul',\n",
        "    8:'Ago',\n",
        "    9:'Sep',\n",
        "    10:'Oct',\n",
        "    11:'Nov',\n",
        "    12:'Dic'\n",
        "}\n",
        "\n",
        "argument=int(input('Enter the number of the month: '))\n",
        "\n",
        "month=switcher.get(argument,'Invalidate month')\n",
        "\n",
        "print(month)\n"
      ],
      "metadata": {
        "colab": {
          "base_uri": "https://localhost:8080/"
        },
        "id": "mdUhHC1XYXaG",
        "outputId": "53b89d85-3da8-492f-e3f0-d4311117baec"
      },
      "execution_count": null,
      "outputs": [
        {
          "output_type": "stream",
          "name": "stdout",
          "text": [
            "Enter the number of the month: 5\n",
            "May\n"
          ]
        }
      ]
    },
    {
      "cell_type": "code",
      "source": [
        "'''\n",
        "Exercise .\n",
        "It is necessary to obtain the simple average of a student from his three partial marks N1, N2 and N3.\n",
        "Build a flowchart, such that given a student's grade as data, write \"approved\" in case that grade is greater than 10.'''\n",
        "\n",
        "nota1=int(input('Enter the 1th number: '))\n",
        "nota2=int(input('Enter the 2th number: '))\n",
        "nota3=int(input('Enter the 3th number: '))\n",
        "\n",
        "average=(nota1+nota2+nota3)/3\n",
        "\n",
        "print('The average is: ',average)\n",
        "if average<11:\n",
        "  print('DESAPROBADO')\n",
        "elif average<21 and average>10:\n",
        "  print('APROBADO')\n",
        "else:\n",
        "  print('Ingrese otros valores')\n",
        "  \n",
        "\n"
      ],
      "metadata": {
        "colab": {
          "base_uri": "https://localhost:8080/"
        },
        "id": "_tpkzWDMl_cv",
        "outputId": "db2404fc-9db6-495f-f9ea-7bb920f441f0"
      },
      "execution_count": null,
      "outputs": [
        {
          "output_type": "stream",
          "name": "stdout",
          "text": [
            "Enter the 1th number: 21\n",
            "Enter the 2th number: 20\n",
            "Enter the 3th number: 25\n",
            "The average is:  22.0\n",
            "Ingrese otros valores\n"
          ]
        }
      ]
    },
    {
      "cell_type": "code",
      "source": [
        "'''Given the salary of a worker, apply a 15% increase if his salary is less than $1000. Print the salary you will receive.'''\n",
        "salary=float(input('Enter the salary: '))\n",
        "\n",
        "if salary<1000 and salary>0:\n",
        "  print('The salary is: ',salary*1.15)\n",
        "elif salary>999:\n",
        "  print('The salary is: ',salary)\n",
        "else:\n",
        "  print('The salary is wrong, check it please')"
      ],
      "metadata": {
        "colab": {
          "base_uri": "https://localhost:8080/"
        },
        "id": "sIg7J_WrmrLG",
        "outputId": "e02d256f-5371-47ee-825e-f780794008fb"
      },
      "execution_count": null,
      "outputs": [
        {
          "output_type": "stream",
          "name": "stdout",
          "text": [
            "Enter the salary: 1500\n",
            "The salary is:  1500.0\n"
          ]
        }
      ]
    },
    {
      "cell_type": "code",
      "source": [
        "'''You want to read a number between 0 and 10 (inclusive) from the keyboard and you want to see if the number is even or odd.'''\n",
        "\n",
        "number=int(input('Enter the number: '))\n",
        "\n",
        "if number%2==0:\n",
        "  print('The number is even')\n",
        "else: \n",
        "  print('The number is odd')"
      ],
      "metadata": {
        "colab": {
          "base_uri": "https://localhost:8080/"
        },
        "id": "gJGG32LJp5ax",
        "outputId": "3a06c8ad-6f5b-461e-c6a7-c2401c0172a8"
      },
      "execution_count": null,
      "outputs": [
        {
          "output_type": "stream",
          "name": "stdout",
          "text": [
            "Enter the number: 6\n",
            "The number is even\n"
          ]
        }
      ]
    },
    {
      "cell_type": "code",
      "source": [
        "'''\n",
        "Construct an algorithm that, given three numbers, displays the message “EQUAL” if the sum of the first two \n",
        "is equal to the other number and the message “DIFFERENT” otherwise.'''\n",
        "\n",
        "nota1=int(input('Enter the 1th number: '))\n",
        "nota2=int(input('Enter the 2th number: '))\n",
        "nota3=int(input('Enter the 3th number: '))\n",
        "\n",
        "if nota1+nota2==nota3:\n",
        "  print('IQUAL')\n",
        "else:\n",
        "  print('DIFFERENT')\n",
        "\n"
      ],
      "metadata": {
        "colab": {
          "base_uri": "https://localhost:8080/"
        },
        "id": "V4XCOXEwqinm",
        "outputId": "765c61fe-d411-497b-c135-63bf9917c522"
      },
      "execution_count": null,
      "outputs": [
        {
          "output_type": "stream",
          "name": "stdout",
          "text": [
            "Enter the 1th number: 3\n",
            "Enter the 2th number: 3\n",
            "Enter the 3th number: 5\n",
            "DIFFERENT\n"
          ]
        }
      ]
    },
    {
      "cell_type": "code",
      "source": [
        "'''A stereo supplier offers a 10% discount on the price without tax, of any device if it costs $2000 or more. \n",
        "Also, regardless of this, it offers an additional 5% discount on the price if the brand is “NOSY”.\n",
        "Determine how much a client will pay, including tax anyone for the purchase of your device. tax = 20%'''\n",
        "\n",
        "brand=input('Enter the brand: ')\n",
        "price=float(input('Enter the price: '))\n",
        "\n",
        "if price>1999 and brand.upper()=='NOSY':\n",
        "  NP=price*0.9*0.95\n",
        "elif price>1999:\n",
        "  NP=price*0.9\n",
        "elif price<2000 and brand.upper()=='NOSY':\n",
        "  NP=price*0.95\n",
        "else:\n",
        "  NP=price\n",
        "\n",
        "print('The price includin taxes is: ',NP)"
      ],
      "metadata": {
        "id": "hZwH8lA43AAv",
        "colab": {
          "base_uri": "https://localhost:8080/"
        },
        "outputId": "1f52537c-2ff1-47e6-9a2c-6026df1e12ed"
      },
      "execution_count": null,
      "outputs": [
        {
          "output_type": "stream",
          "name": "stdout",
          "text": [
            "Enter the brand: nosy\n",
            "Enter the price: 2000\n",
            "The price includin taxes is:  1710.0\n"
          ]
        }
      ]
    },
    {
      "cell_type": "code",
      "source": [],
      "metadata": {
        "id": "9NxciAnqIo9z"
      },
      "execution_count": null,
      "outputs": []
    },
    {
      "cell_type": "code",
      "source": [
        "'''Algorithm, which given a date in the year 2000 (represented by\n",
        "the day, month and year in numeric format mm/dd/yyyy),\n",
        "calculate the next day. Assume that the month has 30 days.'''\n",
        "\n",
        "print('Enter the date:')\n",
        "d=int(input('Enter the day: '))\n",
        "m=int(input('Enter the month: '))\n",
        "y=int(input('enter the year: '))\n",
        "\n",
        "if d>0 and d<30:\n",
        "  print('Tomorrow is: ',m,d+1,y)\n",
        "else:\n",
        "  if m>0 and m<12:\n",
        "    print('Tomorrow is: ',m+1,1,y)\n",
        "  else:\n",
        "    print('Tomorrow is: ',1,1,y+1)\n"
      ],
      "metadata": {
        "id": "xbvXjqAT2Mi4",
        "colab": {
          "base_uri": "https://localhost:8080/"
        },
        "outputId": "aa2060c6-deef-4b26-d61e-530a9fc32643"
      },
      "execution_count": null,
      "outputs": [
        {
          "output_type": "stream",
          "name": "stdout",
          "text": [
            "Enter the date:\n",
            "Enter the day: 30\n",
            "Enter the month: 12\n",
            "enter the year: 2000\n",
            "Tomorrow is:  1 1 2001\n"
          ]
        }
      ]
    },
    {
      "cell_type": "code",
      "source": [
        "'''Algorithm, which calculates the meeting time of 2 vehicles\n",
        "that go in the opposite direction, taking as data the distance\n",
        "initial distance that separates them and the speed of each one.'''\n",
        "\n",
        "v1=float(input('Enter the velocity of car one (m/s): '))\n",
        "v2=float(input('Enter the velocity of car two (m/s): '))\n",
        "d1=float(input('Enter the distance between the cars  (m): '))\n",
        "\n",
        "#d=v x t => t=d1/(v1+v2)\n",
        "\n",
        "if v1+v2<0:\n",
        "  print('The cars never get together')\n",
        "else:\n",
        "  t=d1/(v1+v2)\n",
        "  print('The time is: ',t, ' seconds')\n",
        "\n",
        "\n",
        "\n",
        "\n"
      ],
      "metadata": {
        "colab": {
          "base_uri": "https://localhost:8080/"
        },
        "id": "OAqgiZF-ahd5",
        "outputId": "a8253368-e3c3-4286-b6be-df2728356d62"
      },
      "execution_count": null,
      "outputs": [
        {
          "output_type": "stream",
          "name": "stdout",
          "text": [
            "Enter the velocity of car one (m/s): 5\n",
            "Enter the velocity of car two (m/s): -10\n",
            "Enter the distance between the cars  (m): 20\n",
            "The cars never get together\n"
          ]
        }
      ]
    },
    {
      "cell_type": "code",
      "source": [
        "'''A capital C is placed, at an interest rate I (ranging from 0 to 100), \n",
        "for M years and it is desired to know how much that capital will have been \n",
        "converted in \"M\" years, knowing that it is cumulative.'''\n",
        "\n",
        "c=float(input('Enter the Capital: '))\n",
        "i=float(input('Enter the anual interest in %: '))\n",
        "m=int(input('Enter the years: '))\n",
        "\n",
        "for n in range(m):\n",
        "  c=c*(1+i/100)\n",
        "\n",
        "print(c)"
      ],
      "metadata": {
        "colab": {
          "base_uri": "https://localhost:8080/"
        },
        "id": "6nSnD_TDec2u",
        "outputId": "986554ae-3d0a-470d-9d5a-3447e372e45a"
      },
      "execution_count": null,
      "outputs": [
        {
          "output_type": "stream",
          "name": "stdout",
          "text": [
            "Enter the Capital: 1000\n",
            "Enter the anual interest in %: 10\n",
            "Enter the years: 5\n",
            "1610.5100000000002\n"
          ]
        }
      ]
    },
    {
      "cell_type": "code",
      "source": [
        "'''Calculate the sum of the divisors of each number entered by keyboard. \n",
        "We will finish when the number entered is negative.'''\n",
        "\n",
        "\n",
        "num=int(input('Enter the number: '))\n",
        "\n",
        "sum=0\n",
        "\n",
        "if (num>0):\n",
        "  for c in range(1,num+1):\n",
        "    if num%c==0:\n",
        "      sum=sum+c\n",
        "  print('The addition is: ',sum)\n",
        "else:\n",
        "  print('Enter a number above zero')  \n",
        "\n",
        "\n",
        "  \n",
        "\n"
      ],
      "metadata": {
        "colab": {
          "base_uri": "https://localhost:8080/",
          "height": 0
        },
        "id": "rDyThX3XMIRc",
        "outputId": "7fdd8995-c2ef-48e0-c3da-f9268ac878ae"
      },
      "execution_count": 57,
      "outputs": [
        {
          "output_type": "stream",
          "name": "stdout",
          "text": [
            "Enter the number: 4\n",
            "The addition is:  7\n"
          ]
        }
      ]
    },
    {
      "cell_type": "code",
      "source": [
        "'''What and how many are the prime numbers between 1 and 1000?'''\n",
        "num=1\n",
        "sum=0\n",
        "counter=0\n",
        "while num<1000:\n",
        "  for c in range(1,num+1):\n",
        "    if num%c==0:\n",
        "      sum=sum+c\n",
        "  #print(num,sum)\n",
        "  if sum==num+1:\n",
        "    #print(num, ' Is Prime')\n",
        "    counter+=1\n",
        "    \n",
        "  sum=0\n",
        "  num+=1\n",
        "print('There are : ',counter,' prime numbers between 1 and 1000')\n"
      ],
      "metadata": {
        "colab": {
          "base_uri": "https://localhost:8080/"
        },
        "id": "rqHj0bmvddPL",
        "outputId": "6d6b5f32-40b3-4669-d4c1-0aeb0e93f834"
      },
      "execution_count": 69,
      "outputs": [
        {
          "output_type": "stream",
          "name": "stdout",
          "text": [
            "There are :  168  prime numbers between 1 and 1000\n"
          ]
        }
      ]
    },
    {
      "cell_type": "code",
      "source": [
        "#Constantes \n",
        "primero = 1 \n",
        "limite = 1000 \n",
        "#Inicializando \n",
        "Cont = 0 \n",
        "#Proceso \n",
        "for i in range(primero, limite): \n",
        "  primo = True \n",
        "  j = 2 \n",
        "  while (i > j) and (primo == True): \n",
        "    if i%j == 0 : \n",
        "      #como no se considerá el Número(i) y el 1 \n",
        "      #Si otro numero divide a i entonces ya tendría \n",
        "      # tres divisores. por lo tanto, no es primo \n",
        "      primo = False \n",
        "      break #Por tal motivo se rompe el ciclo \n",
        "    else: \n",
        "      j = j + 1 \n",
        "  if primo == True : \n",
        "    #print(i, \"es primo.\") \n",
        "    Cont = Cont + 1 \n",
        "#Salida \n",
        "print(\"\\nSALIDA: \") \n",
        "print(\"-------------------------------------------------------\") \n",
        "print(\"Entre\", primero, \"y\" , limite, \"hay\", Cont, \"nº primos\")"
      ],
      "metadata": {
        "colab": {
          "base_uri": "https://localhost:8080/"
        },
        "id": "mogpYOrFGYE3",
        "outputId": "36817ba4-a18b-4ffc-ae58-5459b86cecb0"
      },
      "execution_count": 77,
      "outputs": [
        {
          "output_type": "stream",
          "name": "stdout",
          "text": [
            "\n",
            "SALIDA: \n",
            "-------------------------------------------------------\n",
            "Entre 1 y 1000 hay 169 nº primos\n"
          ]
        }
      ]
    },
    {
      "cell_type": "code",
      "source": [],
      "metadata": {
        "id": "w2h7hSUgFoIA"
      },
      "execution_count": null,
      "outputs": []
    }
  ]
}