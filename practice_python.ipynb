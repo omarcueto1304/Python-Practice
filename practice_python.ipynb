{
  "nbformat": 4,
  "nbformat_minor": 0,
  "metadata": {
    "colab": {
      "provenance": [],
      "authorship_tag": "ABX9TyO+i4WMGUp7wBO5y+pCAo12",
      "include_colab_link": true
    },
    "kernelspec": {
      "name": "python3",
      "display_name": "Python 3"
    },
    "language_info": {
      "name": "python"
    }
  },
  "cells": [
    {
      "cell_type": "markdown",
      "metadata": {
        "id": "view-in-github",
        "colab_type": "text"
      },
      "source": [
        "<a href=\"https://colab.research.google.com/github/omarcueto1304/Python-Practice/blob/master/practice_python.ipynb\" target=\"_parent\"><img src=\"https://colab.research.google.com/assets/colab-badge.svg\" alt=\"Open In Colab\"/></a>"
      ]
    },
    {
      "cell_type": "code",
      "execution_count": null,
      "metadata": {
        "colab": {
          "base_uri": "https://localhost:8080/"
        },
        "id": "duwjGygBT3oz",
        "outputId": "28e93581-ecda-4531-91e5-bc535320cbba"
      },
      "outputs": [
        {
          "output_type": "stream",
          "name": "stdout",
          "text": [
            "Enter the seconds: 5\n",
            "enter speed in s/s: 5\n",
            "la distancia es:  25.0\n"
          ]
        }
      ],
      "source": [
        "'''You want to calculate the distance traveled (m) by a mobile\n",
        "which has constant velocity (m/s) for a time t (s),\n",
        "consider that it is an MRU (Uniform Rectilinear Motion).'''\n",
        "\n",
        "time=float(input('Enter the seconds: '))\n",
        "velocity=float(input('enter speed in s/s: ' ))\n",
        "\n",
        "Distance=time*velocity\n",
        "\n",
        "print('la distancia es: ',Distance)"
      ]
    },
    {
      "cell_type": "code",
      "source": [
        "'''\n",
        "Exercise 2.\n",
        "It is necessary to obtain the simple average of a student from his three partial marks N1, N2 and N3.'''\n",
        "\n",
        "nota1=int(input('Enter the 1th number: '))\n",
        "nota2=int(input('Enter the 2th number: '))\n",
        "nota3=int(input('Enter the 3th number: '))\n",
        "\n",
        "average=(nota1+nota2+nota3)/3\n",
        "\n",
        "print('The average is: ',average)"
      ],
      "metadata": {
        "colab": {
          "base_uri": "https://localhost:8080/"
        },
        "id": "4CsacZk_VYMv",
        "outputId": "9f361051-a4fe-424e-ee85-12214ecf89d3"
      },
      "execution_count": null,
      "outputs": [
        {
          "output_type": "stream",
          "name": "stdout",
          "text": [
            "Enter the 1th number: 15\n",
            "Enter the 2th number: 5\n",
            "Enter the 3th number: 85\n",
            "The average is:  35.0\n"
          ]
        }
      ]
    },
    {
      "cell_type": "code",
      "source": [
        "'''Exercise 3.\n",
        "It is necessary to develop an algorithm that requests the number of correct, \n",
        "incorrect and blank answers, corresponding to applicants, \n",
        "and shows their final score considering that for each correct answer they will have 3 points, \n",
        "incorrect answers will have -1 and blank answers will have 0.'''\n",
        "\n",
        "CA=int(input('Enter the correct answers: '))\n",
        "IA=int(input('Enter the incorrect answers: '))\n",
        "BA=int(input('Enter the blanck answers: '))\n",
        "\n",
        "FS=CA*3-IA+BA*0\n",
        "print('the final score is: ',FS )"
      ],
      "metadata": {
        "colab": {
          "base_uri": "https://localhost:8080/"
        },
        "id": "AMNAQlo7Wouq",
        "outputId": "2da4a38c-42a0-4ea5-e69d-25ff3ed32eac"
      },
      "execution_count": null,
      "outputs": [
        {
          "output_type": "stream",
          "name": "stdout",
          "text": [
            "Enter the correct answers: 50\n",
            "Enter the incorrect answers: 25\n",
            "Enter the blanck answers: 25\n",
            "the final scor is:  125\n"
          ]
        }
      ]
    },
    {
      "cell_type": "code",
      "source": [
        "switcher={\n",
        "    1:'Ene',\n",
        "    2:'Feb',\n",
        "    3:'Mar',\n",
        "    4:'Abr',\n",
        "    5:'May',\n",
        "    6:'Jun',\n",
        "    7:'Jul',\n",
        "    8:'Ago',\n",
        "    9:'Sep',\n",
        "    10:'Oct',\n",
        "    11:'Nov',\n",
        "    12:'Dic'\n",
        "}\n",
        "\n",
        "argument=int(input('Enter the number of the month: '))\n",
        "\n",
        "month=switcher.get(argument,'Invalidate month')\n",
        "\n",
        "print(month)\n"
      ],
      "metadata": {
        "colab": {
          "base_uri": "https://localhost:8080/"
        },
        "id": "mdUhHC1XYXaG",
        "outputId": "53b89d85-3da8-492f-e3f0-d4311117baec"
      },
      "execution_count": null,
      "outputs": [
        {
          "output_type": "stream",
          "name": "stdout",
          "text": [
            "Enter the number of the month: 5\n",
            "May\n"
          ]
        }
      ]
    },
    {
      "cell_type": "code",
      "source": [
        "'''\n",
        "Exercise .\n",
        "It is necessary to obtain the simple average of a student from his three partial marks N1, N2 and N3.\n",
        "Build a flowchart, such that given a student's grade as data, write \"approved\" in case that grade is greater than 10.'''\n",
        "\n",
        "nota1=int(input('Enter the 1th number: '))\n",
        "nota2=int(input('Enter the 2th number: '))\n",
        "nota3=int(input('Enter the 3th number: '))\n",
        "\n",
        "average=(nota1+nota2+nota3)/3\n",
        "\n",
        "print('The average is: ',average)\n",
        "if average<11:\n",
        "  print('DESAPROBADO')\n",
        "elif average<21 and average>10:\n",
        "  print('APROBADO')\n",
        "else:\n",
        "  print('Ingrese otros valores')\n",
        "  \n",
        "\n"
      ],
      "metadata": {
        "colab": {
          "base_uri": "https://localhost:8080/"
        },
        "id": "_tpkzWDMl_cv",
        "outputId": "db2404fc-9db6-495f-f9ea-7bb920f441f0"
      },
      "execution_count": null,
      "outputs": [
        {
          "output_type": "stream",
          "name": "stdout",
          "text": [
            "Enter the 1th number: 21\n",
            "Enter the 2th number: 20\n",
            "Enter the 3th number: 25\n",
            "The average is:  22.0\n",
            "Ingrese otros valores\n"
          ]
        }
      ]
    },
    {
      "cell_type": "code",
      "source": [
        "'''Given the salary of a worker, apply a 15% increase if his salary is less than $1000. Print the salary you will receive.'''\n",
        "salary=float(input('Enter the salary: '))\n",
        "\n",
        "if salary<1000 and salary>0:\n",
        "  print('The salary is: ',salary*1.15)\n",
        "elif salary>999:\n",
        "  print('The salary is: ',salary)\n",
        "else:\n",
        "  print('The salary is wrong, check it please')"
      ],
      "metadata": {
        "colab": {
          "base_uri": "https://localhost:8080/"
        },
        "id": "sIg7J_WrmrLG",
        "outputId": "e02d256f-5371-47ee-825e-f780794008fb"
      },
      "execution_count": null,
      "outputs": [
        {
          "output_type": "stream",
          "name": "stdout",
          "text": [
            "Enter the salary: 1500\n",
            "The salary is:  1500.0\n"
          ]
        }
      ]
    },
    {
      "cell_type": "code",
      "source": [
        "'''You want to read a number between 0 and 10 (inclusive) from the keyboard and you want to see if the number is even or odd.'''\n",
        "\n",
        "number=int(input('Enter the number: '))\n",
        "\n",
        "if number%2==0:\n",
        "  print('The number is even')\n",
        "else: \n",
        "  print('The number is odd')"
      ],
      "metadata": {
        "colab": {
          "base_uri": "https://localhost:8080/"
        },
        "id": "gJGG32LJp5ax",
        "outputId": "3a06c8ad-6f5b-461e-c6a7-c2401c0172a8"
      },
      "execution_count": null,
      "outputs": [
        {
          "output_type": "stream",
          "name": "stdout",
          "text": [
            "Enter the number: 6\n",
            "The number is even\n"
          ]
        }
      ]
    },
    {
      "cell_type": "code",
      "source": [
        "'''\n",
        "Construct an algorithm that, given three numbers, displays the message “EQUAL” if the sum of the first two \n",
        "is equal to the other number and the message “DIFFERENT” otherwise.'''\n",
        "\n",
        "nota1=int(input('Enter the 1th number: '))\n",
        "nota2=int(input('Enter the 2th number: '))\n",
        "nota3=int(input('Enter the 3th number: '))\n",
        "\n",
        "if nota1+nota2==nota3:\n",
        "  print('IQUAL')\n",
        "else:\n",
        "  print('DIFFERENT')\n",
        "\n"
      ],
      "metadata": {
        "colab": {
          "base_uri": "https://localhost:8080/"
        },
        "id": "V4XCOXEwqinm",
        "outputId": "765c61fe-d411-497b-c135-63bf9917c522"
      },
      "execution_count": null,
      "outputs": [
        {
          "output_type": "stream",
          "name": "stdout",
          "text": [
            "Enter the 1th number: 3\n",
            "Enter the 2th number: 3\n",
            "Enter the 3th number: 5\n",
            "DIFFERENT\n"
          ]
        }
      ]
    },
    {
      "cell_type": "code",
      "source": [
        "'''A stereo supplier offers a 10% discount on the price without tax, of any device if it costs $2000 or more. \n",
        "Also, regardless of this, it offers an additional 5% discount on the price if the brand is “NOSY”.\n",
        "Determine how much a client will pay, including tax anyone for the purchase of your device. tax = 20%'''\n",
        "\n",
        "brand=input('Enter the brand: ')\n",
        "price=float(input('Enter the price: '))\n",
        "\n",
        "if price>1999 and brand.upper()=='NOSY':\n",
        "  NP=price*0.9*0.95\n",
        "elif price>1999:\n",
        "  NP=price*0.9\n",
        "elif price<2000 and brand.upper()=='NOSY':\n",
        "  NP=price*0.95\n",
        "else:\n",
        "  NP=price\n",
        "\n",
        "print('The price includin taxes is: ',NP)"
      ],
      "metadata": {
        "id": "hZwH8lA43AAv",
        "colab": {
          "base_uri": "https://localhost:8080/"
        },
        "outputId": "1f52537c-2ff1-47e6-9a2c-6026df1e12ed"
      },
      "execution_count": null,
      "outputs": [
        {
          "output_type": "stream",
          "name": "stdout",
          "text": [
            "Enter the brand: nosy\n",
            "Enter the price: 2000\n",
            "The price includin taxes is:  1710.0\n"
          ]
        }
      ]
    },
    {
      "cell_type": "code",
      "source": [],
      "metadata": {
        "id": "9NxciAnqIo9z"
      },
      "execution_count": null,
      "outputs": []
    },
    {
      "cell_type": "code",
      "source": [
        "'''Algorithm, which given a date in the year 2000 (represented by\n",
        "the day, month and year in numeric format mm/dd/yyyy),\n",
        "calculate the next day. Assume that the month has 30 days.'''\n",
        "\n",
        "print('Enter the date:')\n",
        "d=int(input('Enter the day: '))\n",
        "m=int(input('Enter the month: '))\n",
        "y=int(input('enter the year: '))\n",
        "\n",
        "if d>0 and d<30:\n",
        "  print('Tomorrow is: ',m,d+1,y)\n",
        "else:\n",
        "  if m>0 and m<12:\n",
        "    print('Tomorrow is: ',m+1,1,y)\n",
        "  else:\n",
        "    print('Tomorrow is: ',1,1,y+1)\n"
      ],
      "metadata": {
        "id": "xbvXjqAT2Mi4",
        "colab": {
          "base_uri": "https://localhost:8080/"
        },
        "outputId": "aa2060c6-deef-4b26-d61e-530a9fc32643"
      },
      "execution_count": null,
      "outputs": [
        {
          "output_type": "stream",
          "name": "stdout",
          "text": [
            "Enter the date:\n",
            "Enter the day: 30\n",
            "Enter the month: 12\n",
            "enter the year: 2000\n",
            "Tomorrow is:  1 1 2001\n"
          ]
        }
      ]
    },
    {
      "cell_type": "code",
      "source": [
        "'''Algorithm, which calculates the meeting time of 2 vehicles\n",
        "that go in the opposite direction, taking as data the distance\n",
        "initial distance that separates them and the speed of each one.'''\n",
        "\n",
        "v1=float(input('Enter the velocity of car one (m/s): '))\n",
        "v2=float(input('Enter the velocity of car two (m/s): '))\n",
        "d1=float(input('Enter the distance between the cars  (m): '))\n",
        "\n",
        "#d=v x t => t=d1/(v1+v2)\n",
        "\n",
        "if v1+v2<0:\n",
        "  print('The cars never get together')\n",
        "else:\n",
        "  t=d1/(v1+v2)\n",
        "  print('The time is: ',t, ' seconds')\n",
        "\n",
        "\n",
        "\n",
        "\n"
      ],
      "metadata": {
        "colab": {
          "base_uri": "https://localhost:8080/"
        },
        "id": "OAqgiZF-ahd5",
        "outputId": "a8253368-e3c3-4286-b6be-df2728356d62"
      },
      "execution_count": null,
      "outputs": [
        {
          "output_type": "stream",
          "name": "stdout",
          "text": [
            "Enter the velocity of car one (m/s): 5\n",
            "Enter the velocity of car two (m/s): -10\n",
            "Enter the distance between the cars  (m): 20\n",
            "The cars never get together\n"
          ]
        }
      ]
    },
    {
      "cell_type": "code",
      "source": [
        "'''A capital C is placed, at an interest rate I (ranging from 0 to 100), \n",
        "for M years and it is desired to know how much that capital will have been \n",
        "converted in \"M\" years, knowing that it is cumulative.'''\n",
        "\n",
        "c=float(input('Enter the Capital: '))\n",
        "i=float(input('Enter the anual interest in %: '))\n",
        "m=int(input('Enter the years: '))\n",
        "\n",
        "for n in range(m):\n",
        "  c=c*(1+i/100)\n",
        "\n",
        "print(c)"
      ],
      "metadata": {
        "colab": {
          "base_uri": "https://localhost:8080/"
        },
        "id": "6nSnD_TDec2u",
        "outputId": "986554ae-3d0a-470d-9d5a-3447e372e45a"
      },
      "execution_count": null,
      "outputs": [
        {
          "output_type": "stream",
          "name": "stdout",
          "text": [
            "Enter the Capital: 1000\n",
            "Enter the anual interest in %: 10\n",
            "Enter the years: 5\n",
            "1610.5100000000002\n"
          ]
        }
      ]
    },
    {
      "cell_type": "code",
      "source": [
        "'''Calculate the sum of the divisors of each number entered by keyboard. \n",
        "We will finish when the number entered is negative.'''\n",
        "\n",
        "\n",
        "num=int(input('Enter the number: '))\n",
        "\n",
        "sum=0\n",
        "\n",
        "if (num>0):\n",
        "  for c in range(1,num+1):\n",
        "    if num%c==0:\n",
        "      sum=sum+c\n",
        "  print('The addition is: ',sum)\n",
        "else:\n",
        "  print('Enter a number above zero')  \n",
        "\n",
        "\n",
        "  \n",
        "\n"
      ],
      "metadata": {
        "colab": {
          "base_uri": "https://localhost:8080/"
        },
        "id": "rDyThX3XMIRc",
        "outputId": "7fdd8995-c2ef-48e0-c3da-f9268ac878ae"
      },
      "execution_count": null,
      "outputs": [
        {
          "output_type": "stream",
          "name": "stdout",
          "text": [
            "Enter the number: 4\n",
            "The addition is:  7\n"
          ]
        }
      ]
    },
    {
      "cell_type": "code",
      "source": [
        "'''What and how many are the prime numbers between 1 and 1000?'''\n",
        "num=1\n",
        "sum=0\n",
        "counter=0\n",
        "while num<1000:\n",
        "  for c in range(1,num+1):\n",
        "    if num%c==0:\n",
        "      sum=sum+c\n",
        "  #print(num,sum)\n",
        "  if sum==num+1:\n",
        "    #print(num, ' Is Prime')\n",
        "    counter+=1\n",
        "    \n",
        "  sum=0\n",
        "  num+=1\n",
        "print('There are : ',counter,' prime numbers between 1 and 1000')\n"
      ],
      "metadata": {
        "colab": {
          "base_uri": "https://localhost:8080/"
        },
        "id": "rqHj0bmvddPL",
        "outputId": "6d6b5f32-40b3-4669-d4c1-0aeb0e93f834"
      },
      "execution_count": null,
      "outputs": [
        {
          "output_type": "stream",
          "name": "stdout",
          "text": [
            "There are :  168  prime numbers between 1 and 1000\n"
          ]
        }
      ]
    },
    {
      "cell_type": "code",
      "source": [
        "#Constantes \n",
        "primero = 1 \n",
        "limite = 1000 \n",
        "#Inicializando \n",
        "Cont = 0 \n",
        "#Proceso \n",
        "for i in range(primero, limite): \n",
        "  primo = True \n",
        "  j = 2 \n",
        "  while (i > j) and (primo == True): \n",
        "    if i%j == 0 : \n",
        "      #como no se considerá el Número(i) y el 1 \n",
        "      #Si otro numero divide a i entonces ya tendría \n",
        "      # tres divisores. por lo tanto, no es primo \n",
        "      primo = False \n",
        "      break #Por tal motivo se rompe el ciclo \n",
        "    else: \n",
        "      j = j + 1 \n",
        "  if primo == True : \n",
        "    #print(i, \"es primo.\") \n",
        "    Cont = Cont + 1 \n",
        "#Salida \n",
        "print(\"\\nSALIDA: \") \n",
        "print(\"-------------------------------------------------------\") \n",
        "print(\"Entre\", primero, \"y\" , limite, \"hay\", Cont, \"nº primos\")"
      ],
      "metadata": {
        "colab": {
          "base_uri": "https://localhost:8080/"
        },
        "id": "mogpYOrFGYE3",
        "outputId": "36817ba4-a18b-4ffc-ae58-5459b86cecb0"
      },
      "execution_count": null,
      "outputs": [
        {
          "output_type": "stream",
          "name": "stdout",
          "text": [
            "\n",
            "SALIDA: \n",
            "-------------------------------------------------------\n",
            "Entre 1 y 1000 hay 169 nº primos\n"
          ]
        }
      ]
    },
    {
      "cell_type": "code",
      "source": [
        "#factorial\n",
        "'''Since the value of  the following sum:\n",
        "e = 1 + x+x2/2! + x3/3! + ….. + xn/n!'''\n",
        "\n",
        "e=1\n",
        "x=int(input('Enter x'))\n",
        "factorial=1\n",
        "\n",
        "for i in range(1,x+1):\n",
        "    factorial=factorial*i\n",
        "    e=e+x**i/factorial\n",
        "\n",
        "print(factorial)\n",
        "print(e)\n",
        "\n"
      ],
      "metadata": {
        "colab": {
          "base_uri": "https://localhost:8080/"
        },
        "id": "w2h7hSUgFoIA",
        "outputId": "bec8ddea-ccbf-4136-ee55-0c723a78b3ee"
      },
      "execution_count": null,
      "outputs": [
        {
          "output_type": "stream",
          "name": "stdout",
          "text": [
            "Enter x5\n",
            "120\n",
            "91.41666666666667\n"
          ]
        }
      ]
    },
    {
      "cell_type": "code",
      "source": [
        "a1=1\n",
        "a2=0\n",
        "an=a1+(2*a2)\n",
        "cont=0\n",
        "\n",
        "while an<300:\n",
        "  a2=a1\n",
        "  a1=an\n",
        "  an=a1+(2+a2)\n",
        "  cont=cont+1\n",
        "\n",
        "print('El rango es: ',cont,' y el resultado es: ',an)\n"
      ],
      "metadata": {
        "colab": {
          "base_uri": "https://localhost:8080/"
        },
        "id": "hofOC-o94H5E",
        "outputId": "4ef35170-6a7d-481d-81cc-62199c50c0f7"
      },
      "execution_count": null,
      "outputs": [
        {
          "output_type": "stream",
          "name": "stdout",
          "text": [
            "El rango es:  10  y el resultado es:  430\n"
          ]
        }
      ]
    },
    {
      "cell_type": "code",
      "source": [
        "'''Enter by keyboard 100 integers and calculate how many\n",
        "of them are pairs. The result is printed.'''\n",
        "\n",
        "\n",
        "x=int(input('Enter the quantity of numbers to analize: '))\n",
        "\n",
        "arr=[]\n",
        "for i in range(1,x+1):\n",
        "  num=int(input('Enter a number: '))\n",
        "  if num%2==0:\n",
        "    arr.append(num)\n",
        "\n",
        "print('The pair numbers are: ')\n",
        "for i in arr:\n",
        "  print(i)\n",
        "\n"
      ],
      "metadata": {
        "id": "oFyX5yJsinPc",
        "colab": {
          "base_uri": "https://localhost:8080/"
        },
        "outputId": "324f41dd-18c0-47ed-a364-c0d5dd27986a"
      },
      "execution_count": null,
      "outputs": [
        {
          "output_type": "stream",
          "name": "stdout",
          "text": [
            "Enter the quantity of numbers to analize: 1\n",
            "Enter a number: 5\n",
            "The pair numbers are: \n"
          ]
        }
      ]
    },
    {
      "cell_type": "code",
      "source": [
        "'''Write an algorithm that prints the first 10 numbers\n",
        "pairs starting at 2 and also print their respective\n",
        "cubes. For example: 2 – 8 ; 4-64; 6 – 216'''\n",
        "\n",
        "num=1\n",
        "print('the pair numbers and his cubes are: ')\n",
        "quantity=20\n",
        "\n",
        "\n",
        "while num<quantity:\n",
        "   num=num+1\n",
        "   if num%2==0:\n",
        "    print(num,' - ',num**3)\n",
        "\n",
        " "
      ],
      "metadata": {
        "colab": {
          "base_uri": "https://localhost:8080/"
        },
        "id": "nGODyH2WHPTp",
        "outputId": "58367e9f-6f3a-4d59-a842-dea461b66d19"
      },
      "execution_count": null,
      "outputs": [
        {
          "output_type": "stream",
          "name": "stdout",
          "text": [
            "the pair numbers and his cubes are: \n",
            "2  -  8\n",
            "4  -  64\n",
            "6  -  216\n",
            "8  -  512\n",
            "10  -  1000\n",
            "12  -  1728\n",
            "14  -  2744\n",
            "16  -  4096\n",
            "18  -  5832\n",
            "20  -  8000\n"
          ]
        }
      ]
    },
    {
      "cell_type": "code",
      "source": [
        "'''Write an algorithm that prints the first 10 numbers\n",
        "primes starting at 2 and also print their respective\n",
        "cubes. For example: 2 – 8 ; 3-27; 5 –125'''\n",
        "\n",
        "num=1\n",
        "sum=0\n",
        "counter=0\n",
        "while counter<10:\n",
        "  for c in range(1,num+1):\n",
        "    if num%c==0:\n",
        "      sum=sum+c\n",
        "  #print(num,sum)\n",
        "  if sum==num+1:\n",
        "    print(num, ' Is Prime and its cube is: ', num**3)\n",
        "    counter+=1\n",
        "    \n",
        "  sum=0\n",
        "  num+=1\n",
        "\n"
      ],
      "metadata": {
        "colab": {
          "base_uri": "https://localhost:8080/"
        },
        "id": "bNmhyacRMACL",
        "outputId": "473a34ed-9b99-4fd5-ece4-498a5aefde77"
      },
      "execution_count": null,
      "outputs": [
        {
          "output_type": "stream",
          "name": "stdout",
          "text": [
            "2  Is Prime and its cube is:  8\n",
            "3  Is Prime and its cube is:  27\n",
            "5  Is Prime and its cube is:  125\n",
            "7  Is Prime and its cube is:  343\n",
            "11  Is Prime and its cube is:  1331\n",
            "13  Is Prime and its cube is:  2197\n",
            "17  Is Prime and its cube is:  4913\n",
            "19  Is Prime and its cube is:  6859\n",
            "23  Is Prime and its cube is:  12167\n",
            "29  Is Prime and its cube is:  24389\n"
          ]
        }
      ]
    },
    {
      "cell_type": "code",
      "source": [
        "'''Construct an algorithm that, given an input n, computes the\n",
        "sum of the terms of an arithmetic progression such as\n",
        "shown below: 10; 15; 20; 25; 30 …..Tn. This\n",
        "es, your algorithm should calculate the value: 10 + 15 + 20 + 25 + 30\n",
        "+ … + Tn.'''\n",
        "\n",
        "begin=0\n",
        "num=int(input('Enter the number of elements: '))\n",
        "accumulator=0\n",
        "\n",
        "for i in range(0,num):\n",
        "  begin=begin+10+i*5\n",
        "\n",
        "print('The addition is: ',begin)\n"
      ],
      "metadata": {
        "colab": {
          "base_uri": "https://localhost:8080/"
        },
        "id": "SW_10ZzJI4l6",
        "outputId": "d2950416-3cc7-4f4e-f596-8a1c2901cc88"
      },
      "execution_count": null,
      "outputs": [
        {
          "output_type": "stream",
          "name": "stdout",
          "text": [
            "Enter the number of elements: 4\n",
            "The addition is:  70\n"
          ]
        }
      ]
    },
    {
      "cell_type": "code",
      "source": [
        "n=int(input('Enter the number of elements: '))\n",
        "pair=0\n",
        "odd=0\n",
        "for i in range(1,n+1):\n",
        "  if i%2==0:\n",
        "    pair=pair-1/i\n",
        "  else:\n",
        "    odd=odd+1/i\n",
        "total=odd+pair\n",
        "print(total)\n"
      ],
      "metadata": {
        "colab": {
          "base_uri": "https://localhost:8080/"
        },
        "id": "8Z4uykcrX1rT",
        "outputId": "e7a4d8ba-9767-4d2e-9e10-7eec4fedeebc"
      },
      "execution_count": null,
      "outputs": [
        {
          "output_type": "stream",
          "name": "stdout",
          "text": [
            "Enter the number of elements: 20\n",
            "0.6687714031754277\n"
          ]
        }
      ]
    },
    {
      "cell_type": "code",
      "source": [
        "'''Write an algorithm such that given as data X numbers\n",
        "integers, find the number of zeros between these\n",
        "numbers. For example, if 6 data are entered: 9 0 4 8 0 1\n",
        "The algorithm returns that there are 2 zeros.'''\n",
        "\n",
        "q=int(input('How many numbers want to enter? '))\n",
        "count=0\n",
        "for i in range(0,q):\n",
        "  num=int(input('Enter a number: '))\n",
        "  if num==0:\n",
        "    count=count+1\n",
        "\n",
        "print('We have ',count,' zeros')\n",
        "\n",
        "\n"
      ],
      "metadata": {
        "colab": {
          "base_uri": "https://localhost:8080/"
        },
        "id": "3RHhJdALaCu6",
        "outputId": "ca3d29eb-cb89-49aa-a577-4a893a825f7d"
      },
      "execution_count": null,
      "outputs": [
        {
          "output_type": "stream",
          "name": "stdout",
          "text": [
            "How many numbers want to enter? 5\n",
            "Enter a number: 1\n",
            "Enter a number: 2\n",
            "Enter a number: 0\n",
            "Enter a number: 0\n",
            "Enter a number: 5\n",
            "We have  2  zeros\n"
          ]
        }
      ]
    },
    {
      "cell_type": "code",
      "source": [
        "'''Create an algorithm, which given N entered integers\n",
        "by keyboard determine which of them is the smallest and largest\n",
        "respectively.'''\n",
        "\n",
        "q=int(input('How many numbers are you gonna enter? '))\n",
        "number=int(input('Enter a number:'))\n",
        "minimun=number\n",
        "maximun=number\n",
        "\n",
        "for i in range(1,q):\n",
        "  number=int(input('Enter a number:'))\n",
        "  if number<minimun:\n",
        "    minimun=number\n",
        "  if number>maximun:\n",
        "    maximun=number\n",
        "\n",
        "print('The minimun is: ',minimun)\n",
        "print('The maximun is: ',maximun)\n"
      ],
      "metadata": {
        "colab": {
          "base_uri": "https://localhost:8080/"
        },
        "id": "IQyIDYH2cDIc",
        "outputId": "3337da27-48d1-4d5a-ef4e-7800f31223bb"
      },
      "execution_count": null,
      "outputs": [
        {
          "output_type": "stream",
          "name": "stdout",
          "text": [
            "How many numbers are you gonna enter? 4\n",
            "Enter a number:5\n",
            "Enter a number:3\n",
            "Enter a number:9\n",
            "Enter a number:5\n",
            "The minimun is:  3\n",
            "The maximun is:  9\n"
          ]
        }
      ]
    },
    {
      "cell_type": "code",
      "source": [
        "'''Enter X characters and indicate how many times the number 'a' is repeated.'''\n",
        "\n",
        "number=int(input('Which number do you want to count: '))\n",
        "quantity=int(input('Whow many numbers are you gonna enter: : '))\n",
        "counter=0\n",
        "\n",
        "for i in range(0,quantity):\n",
        "  digit=int(input('Enter a number: '))\n",
        "  if digit==number:\n",
        "    counter=counter+1\n",
        "\n",
        "print('Did you enter ',counter,' times the number ', number)\n",
        "\n",
        "\n"
      ],
      "metadata": {
        "colab": {
          "base_uri": "https://localhost:8080/"
        },
        "id": "box7X3XwjvuE",
        "outputId": "0cf156fb-36ff-4c3f-8e13-034958752340"
      },
      "execution_count": null,
      "outputs": [
        {
          "output_type": "stream",
          "name": "stdout",
          "text": [
            "Which number do you want to count: 5\n",
            "Whow many numbers are you gonna enter: : 10\n",
            "Enter a number: 5\n",
            "Enter a number: 5\n",
            "Enter a number: 5\n",
            "Enter a number: 6\n",
            "Enter a number: 2\n",
            "Enter a number: 8\n",
            "Enter a number: 4\n",
            "Enter a number: 9\n",
            "Enter a number: 1\n",
            "Enter a number: 6\n",
            "Did you enter  3  timer the number  5\n"
          ]
        }
      ]
    },
    {
      "cell_type": "code",
      "source": [
        "\n",
        "'''Enter by keyboard x integers and calculate how many\n",
        "of them are pairs. The result is printed.'''\n",
        "\n",
        "\n",
        "quantity=int(input('Whow many numbers are you gonna enter: : '))\n",
        "counter=0\n",
        "\n",
        "for i in range(0,quantity):\n",
        "  digit=int(input('Enter a number: '))\n",
        "  if digit%2==0:\n",
        "    counter=counter+1\n",
        "\n",
        "print('Tere was  ',counter,' pairs')\n"
      ],
      "metadata": {
        "colab": {
          "base_uri": "https://localhost:8080/"
        },
        "id": "_zr1FiyilXyC",
        "outputId": "ef44cff5-6674-42a5-c6d9-adcdc9dba954"
      },
      "execution_count": null,
      "outputs": [
        {
          "output_type": "stream",
          "name": "stdout",
          "text": [
            "Whow many numbers are you gonna enter: : 5\n",
            "Enter a number: 8\n",
            "Enter a number: 3\n",
            "Enter a number: 4\n",
            "Enter a number: 5\n",
            "Enter a number: 1\n",
            "Tere was   2  pairs\n"
          ]
        }
      ]
    },
    {
      "cell_type": "code",
      "source": [
        "\n",
        "'''Create a one-dimensional array or arrangement where you indicate the size \n",
        "by keyboard and create a function that fills the array or arrangement with the \n",
        "multiples of a number requested by keyboard. For example, if I define an array \n",
        "of size 5 and choose a 3 in the function, the array will contain 3, 6, 9, 12, 15. \n",
        "Display them on the screen using a different function.'''\n",
        "\n",
        "size=int(input('Enter the size of the array: '))\n",
        "multiple=int(input('Enter the multiple of the array: '))\n",
        "array=[]\n",
        "\n",
        "for i in range(1,size+1):\n",
        "  array.append(i*multiple)\n",
        "\n",
        "print(array)"
      ],
      "metadata": {
        "id": "u70TtRaQfhWC",
        "colab": {
          "base_uri": "https://localhost:8080/"
        },
        "outputId": "b8e4cedf-b780-4535-f47b-df18fbe12771"
      },
      "execution_count": null,
      "outputs": [
        {
          "output_type": "stream",
          "name": "stdout",
          "text": [
            "Enter the size of the array: 9\n",
            "Enter the multiple of the array: 2\n",
            "[2, 4, 6, 8, 10, 12, 14, 16, 18]\n"
          ]
        }
      ]
    },
    {
      "cell_type": "code",
      "source": [
        "'''Given the following array of numbers:\n",
        "[1, 5, 8, 3, 30, 9, 13]\n",
        "Programmatically print odd numbers greater than 3 to the screen.'''\n",
        "\n",
        "arr=[1, 5, 8, 3, 30, 9, 13]\n",
        "arr2=[]\n",
        "for i in arr:\n",
        "  if i>3:\n",
        "    arr2.append(i)\n",
        "    print(i)\n",
        "print(arr2)"
      ],
      "metadata": {
        "colab": {
          "base_uri": "https://localhost:8080/"
        },
        "id": "60YUQRUGTKLn",
        "outputId": "ef89e2cb-57ea-455c-8bd4-678d7bd571cb"
      },
      "execution_count": null,
      "outputs": [
        {
          "output_type": "stream",
          "name": "stdout",
          "text": [
            "5\n",
            "8\n",
            "30\n",
            "9\n",
            "13\n",
            "[5, 8, 30, 9, 13]\n"
          ]
        }
      ]
    },
    {
      "cell_type": "code",
      "source": [
        "'''Given the following notes stored in an array:\n",
        "[20, 15, 12, 11, 8, 4, 1]\n",
        "Delete the lowest note programmatically without using the (min) \n",
        "function and write to screen. Then programmatically calculate the \n",
        "grade point average minus the dropped grade.'''\n",
        "\n",
        "arr=[20, 15, 12, 11, 8, 4, 1]\n",
        "count=0\n",
        "sum=0\n",
        "for i in arr:\n",
        "  a=arr[0]\n",
        "  count=count+1\n",
        "  sum=sum+i\n",
        "  if i<a:\n",
        "    a=i\n",
        "  else:\n",
        "    a=a\n",
        "\n",
        "print(count)\n",
        "print((sum-a)/(count-1))"
      ],
      "metadata": {
        "colab": {
          "base_uri": "https://localhost:8080/"
        },
        "id": "Cz4wDcDFT9dB",
        "outputId": "40d6c50e-11bd-4c85-b5e5-9293b59be547"
      },
      "execution_count": null,
      "outputs": [
        {
          "output_type": "stream",
          "name": "stdout",
          "text": [
            "7\n",
            "11.666666666666666\n"
          ]
        }
      ]
    },
    {
      "cell_type": "code",
      "source": [
        "'''A) Ask the user to enter numbers, which will be saved in a list. Finish by entering the number 0, which should not be saved.\n",
        "B) Next, ask the user to enter a number, and if the number is in the list, delete their first issue. Show a message if it is not possible to delete.\n",
        "C) Register the list to print the sum of all the elements.\n",
        "D) Ask the user for another number and create a list with the elements of the original list that are less than the given number. Print this new list, \n",
        "iterating over it.\n",
        "E) Generate and print a new list that contains tuples of two elements as elements, each one made up of a number from the original list and the \n",
        "number of times it appears in it. For example, if the original list is [5,16,2,5,57,5,2] the new list will \n",
        "contain: [(5,3), (16,1), (2,2), (57, 1)]'''\n",
        "\n",
        "arr=[]\n",
        "\n",
        "\n",
        "number=float(input('Enter a number for the array: '))\n",
        "\n",
        "while number!=0:\n",
        "  arr.append(number)\n",
        "  number=float(input('Enter a number for the array: '))\n",
        "\n",
        "print(arr)\n",
        "print('**************************')\n",
        "\n",
        "delete=float(input('Enter a number to delete: '))\n",
        "if delete in arr:\n",
        "  arr.remove(9)\n",
        "else:\n",
        "  delete=float(input('This number is not in the list, please enter another numner: '))\n",
        "\n",
        "print(arr)\n",
        "print('**************************')\n",
        "sum=0\n",
        "for i in arr:\n",
        "  sum=sum+i\n",
        "\n",
        "print('The addition of all elemente is: ',sum)\n",
        "print('**************************')\n",
        "\n",
        "maximun=float(input('Enter a number to be the maximun of the new array: '))\n",
        "arr2=[]\n",
        "for i in arr:\n",
        "  if i<maximun:\n",
        "    arr2.append(i)\n",
        "print(arr2)\n",
        "print('**************************')\n",
        "arr3=[]\n",
        "for i in arr:\n",
        "  a=arr.count(i)\n",
        "  (x,y)=(i,a)\n",
        "  arr3.append((x,y))\n",
        "\n",
        "print(arr3)\n",
        "\n"
      ],
      "metadata": {
        "id": "tPxPufWtALeP",
        "colab": {
          "base_uri": "https://localhost:8080/"
        },
        "outputId": "3cc4046e-126d-497b-c26d-b6c8d8ccf591"
      },
      "execution_count": 13,
      "outputs": [
        {
          "output_type": "stream",
          "name": "stdout",
          "text": [
            "Enter a number for the array: 8\n",
            "Enter a number for the array: 9\n",
            "Enter a number for the array: 5\n",
            "Enter a number for the array: 4\n",
            "Enter a number for the array: 8\n",
            "Enter a number for the array: 2\n",
            "Enter a number for the array: 9\n",
            "Enter a number for the array: 1\n",
            "Enter a number for the array: 8\n",
            "Enter a number for the array: 6\n",
            "Enter a number for the array: 0\n",
            "[8.0, 9.0, 5.0, 4.0, 8.0, 2.0, 9.0, 1.0, 8.0, 6.0]\n",
            "**************************\n",
            "Enter a number to delete: 1\n",
            "[8.0, 5.0, 4.0, 8.0, 2.0, 9.0, 1.0, 8.0, 6.0]\n",
            "**************************\n",
            "The addition of all elemente is:  51.0\n",
            "**************************\n",
            "Enter a number to be the maximun of the new array: 8\n",
            "[5.0, 4.0, 2.0, 1.0, 6.0]\n",
            "**************************\n",
            "[(8.0, 3), (5.0, 1), (4.0, 1), (8.0, 3), (2.0, 1), (9.0, 1), (1.0, 1), (8.0, 3), (6.0, 1)]\n"
          ]
        }
      ]
    },
    {
      "cell_type": "code",
      "source": [
        "'''Write a program that allows you to process travel passenger data in a list of tuples with the following form: (name, ID, destination). \n",
        "Example: [(\"Manuel Juarez\", 19823451, \"Liverpool\"), (\"Silvana Paredes\", 22709128, \"Buenos Aires\"), (\"Rosa Ortiz\", 15123978, \"Glasgow\"), \n",
        "(\"Luciana Hernandez\", 38981374 , \"Lisboa\")] \n",
        "In addition, in another list of tuples the data of each city and the country to which they belong are stored. \n",
        "Example: [(\"Buenos Aires\",\"Argentina\"), (\"Glasgow\",\"Scotland\"), (\"Lisbon\", \"Portugal\"), (\"Liverpool\",\"England\"), (\"Madrid\",\" Spain\")] \n",
        "\n",
        "Make an iterative menu that allows the user to perform the following operations:\n",
        "-Add passengers to the list of travelers.\n",
        "-Add cities to the list of cities.\n",
        "-Given the ID of a passenger, see which city you are traveling to.\n",
        "-Given a city, show the number of passengers traveling to that city.\n",
        "-Given the ID of a passenger, see which country you are traveling to.\n",
        "-Given a country, show how many passengers travel to that country.\n",
        "-Exit the program.'''\n",
        "\n"
      ],
      "metadata": {
        "id": "vgONz3rFMM33"
      },
      "execution_count": null,
      "outputs": []
    },
    {
      "cell_type": "code",
      "source": [
        "'''Prompt the user to enter the first names of primary level students in a school, ending by entering “x”. \n",
        "Next, request that you enter the names of the secondary level students, ending by entering “x”.\n",
        "- Inform the names of all primary level students and those of secondary level, without repetitions.<>\n",
        "- Inform which names are repeated among primary and secondary level students.\n",
        "-Inform which names of primary level are not repeated in those of secondary level.'''"
      ],
      "metadata": {
        "id": "vp4Jd7UVMQhV"
      },
      "execution_count": null,
      "outputs": []
    },
    {
      "cell_type": "code",
      "source": [
        "'''Assume a list with data on the purchases made by customers of a company throughout a month, which contains tuples with information on each sale: (customer, day of the month, amount, customer address). Example:\n",
        "[(\"Nuria Costa\", 5, 12780.78, \"Calle Las Flores 355\"), (\"Jorge Russo\", 7, 699, \"Mirasol 218\"), (\"Nuria Costa\", 7, 532.90, \"Calle Las Flores 355 \"), (\"Julián Rodriguez\", 12, 5715.99, \"La Mancha 761\"), (\"Jorge Russo\", 15, 958, \"Mirasol 218\")]\n",
        "Write a function that receives as a parameter a list with the format mentioned above and returns the addresses of each customer to whom a purchase invoice must be sent. Note that each customer may have made more than one purchase in the month, so the function must return a structure that contains each address only once.'''"
      ],
      "metadata": {
        "id": "RfxQNmv9MYwt"
      },
      "execution_count": null,
      "outputs": []
    },
    {
      "cell_type": "code",
      "source": [
        "'''Write a program that processes strings entered by the user. Reading ends when 50 strings have been processed. When finished, inform the total number of occurrences of each character, in all the strings entered. Example: \"r\":5, \"%\":3, \"a\":8, \"9\":1.\n",
        "How could the occurrences of only letters of the alphabet be reported, including the value 0 for letters that did not appear?'''"
      ],
      "metadata": {
        "id": "4_mHZFlXMiZd"
      },
      "execution_count": null,
      "outputs": []
    },
    {
      "cell_type": "code",
      "source": [
        "'''Create a program to manage the data of the members of a club, allowing:\n",
        "-Load member information into a dictionary to access by member number. The data to be stored are: number, name and surname, date of admission (ddmmyyyy), current quota (y/n). The program must start with the data of the founding partners already loaded:\n",
        "Partner No. 1, Amanda Núñez, joined: 03/17/2009, daily fee.\n",
        "Partner No. 2, Bárbara Molina, joined: 03/17/2009, daily fee.\n",
        "Member no. 3, Lautaro Campos, joined: 03/17/2009, daily fee.\n",
        "-Inform number of club members.\n",
        "-Ask the user for a member's number and register that he has paid all due fees.\n",
        "-Modify the entry date of all members entered on 03/13/2018, to indicate that they actually entered on 03/14/2018.\n",
        "-Request the name and surname of a partner and unsubscribe (remove it from the list).\n",
        "-Print the full membership list.'''\n",
        "\n",
        "'''http://patriciaemiguel.com/ejercicios/python/2019/03/10/ejercicios-estructuras_datos-python.html'''"
      ],
      "metadata": {
        "id": "NyoeXmgiMyfd"
      },
      "execution_count": null,
      "outputs": []
    }
  ]
}